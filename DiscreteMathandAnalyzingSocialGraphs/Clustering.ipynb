{
 "cells": [
  {
   "cell_type": "code",
   "execution_count": 14,
   "metadata": {
    "scrolled": true
   },
   "outputs": [
    {
     "name": "stdout",
     "output_type": "stream",
     "text": [
      "edges = 88234\n",
      "nodes = 4039\n",
      "rgraph_edges = 88711\n",
      "fbgraph_acc = 0.6055467186200876\n",
      "rgraph_acc = 0.010880393784102046\n"
     ]
    },
    {
     "data": {
      "text/plain": [
       "0.6055467186200876"
      ]
     },
     "execution_count": 14,
     "metadata": {},
     "output_type": "execute_result"
    }
   ],
   "source": [
    "import networkx as nx;\n",
    "from random import random;\n",
    "from networkx.generators.random_graphs import erdos_renyi_graph;\n",
    "\n",
    "# Read data from the dataset, and create graph G_fb\n",
    "G_fb = nx.read_edgelist(\"facebook_combined.txt\", create_using = nx.Graph(), nodetype=int);\n",
    "\n",
    "# Show the number of edges in G_fb\n",
    "print(\"edges = \" + str(G_fb.number_of_edges()));\n",
    "\n",
    "# Show number of nodes in G_fb\n",
    "print(\"nodes = \" + str(G_fb.number_of_nodes()));\n",
    "\n",
    "# TASK1. Now your task is to compute the probability whether there is an edge between two vertices.\n",
    "edge_probab = G_fb.number_of_edges()/(G_fb.number_of_nodes()*(G_fb.number_of_nodes()-1)/2)\n",
    "\n",
    "# TASK2. Compute the ACC (average clustering coefficient) of G_fb\n",
    "# (consult the NetworkX manual or the video lecture for the correct function which does it)\n",
    "G_fb_av_clust_coeff = nx.average_clustering(G_fb)\n",
    "\n",
    "# Now we have to generate a random graph. First we initialize it\n",
    "#G_rand = nx.Graph();\n",
    "\n",
    "# TASK3. generate edges in G_rand at random:\n",
    "G_rand = erdos_renyi_graph(G_fb.number_of_nodes(), edge_probab)\n",
    "        \n",
    "# Now we print out the number of edges and the ACC of the new graph\n",
    "print(\"rgraph_edges = \" + str(G_rand.number_of_edges()));\n",
    "\n",
    "G_rand_av_clust_coeff = nx.average_clustering(G_rand);\n",
    "\n",
    "print(\"fbgraph_acc = \" + str(G_fb_av_clust_coeff));\n",
    "print(\"rgraph_acc = \" + str(G_rand_av_clust_coeff));\n",
    "\n",
    "# The results which should be submitted to the grader include the ACC of G_fb and of G_rand. Good luck!\n",
    "G_fb_av_clust_coeff"
   ]
  },
  {
   "cell_type": "code",
   "execution_count": 13,
   "metadata": {},
   "outputs": [
    {
     "data": {
      "text/plain": [
       "0.010776552570790712"
      ]
     },
     "execution_count": 13,
     "metadata": {},
     "output_type": "execute_result"
    }
   ],
   "source": [
    "G_rand_av_clust_coeff"
   ]
  },
  {
   "cell_type": "code",
   "execution_count": null,
   "metadata": {},
   "outputs": [],
   "source": []
  }
 ],
 "metadata": {
  "kernelspec": {
   "display_name": "Python 3",
   "language": "python",
   "name": "python3"
  },
  "language_info": {
   "codemirror_mode": {
    "name": "ipython",
    "version": 3
   },
   "file_extension": ".py",
   "mimetype": "text/x-python",
   "name": "python",
   "nbconvert_exporter": "python",
   "pygments_lexer": "ipython3",
   "version": "3.7.1"
  }
 },
 "nbformat": 4,
 "nbformat_minor": 2
}
